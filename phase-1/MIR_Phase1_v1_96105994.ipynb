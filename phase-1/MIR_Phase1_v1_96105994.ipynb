{
  "nbformat": 4,
  "nbformat_minor": 0,
  "metadata": {
    "kernelspec": {
      "display_name": "Python 3",
      "language": "python",
      "name": "python3"
    },
    "language_info": {
      "codemirror_mode": {
        "name": "ipython",
        "version": 3
      },
      "file_extension": ".py",
      "mimetype": "text/x-python",
      "name": "python",
      "nbconvert_exporter": "python",
      "pygments_lexer": "ipython3",
      "version": "3.6.9"
    },
    "colab": {
      "name": "MIR_Phase1_v1_96105994.ipynb",
      "provenance": [],
      "collapsed_sections": []
    }
  },
  "cells": [
    {
      "cell_type": "markdown",
      "metadata": {
        "id": "-b2UsRU4P9JF"
      },
      "source": [
        "<div style=\"direction:rtl;line-height:300%;\">\n",
        "<font face=\"XB Zar\" size=5>\n",
        "<div align=center>\n",
        "<font face=\"B Titr\" size=5>\n",
        "<p></p><p></p>\n",
        "بسمه تعالی\n",
        "<p></p>\n",
        "</font>\n",
        "<p></p>\n",
        "<font>\n",
        "<br>\n",
        "درس بازیابی پیشرفته اطلاعات\n",
        "<br>\n",
        "مدرس: دکتر سلیمانی\n",
        "</font>\n",
        "<p></p>\n",
        "<br>\n",
        "<font>\n",
        "<b>فاز اول پروژه</b>\n",
        "</font>\n",
        "<br>\n",
        "<br>\n",
        "موعد تحویل: ۲۸ اسفند ۱۳۹۹\n",
        "<br>\n",
        "<br>\n",
        "<font size=4.8>\n",
        "دستیاران آموزشی: نیما جمالی، آرمین سعادت، ایمان غلامی\n",
        "</font>\n",
        "<br>\n",
        "<br>\n",
        "<br>\n",
        "<font size=4.8>\n",
        "<b>علی قربان‌پور - ۹۶۱۰۵۹۹۴</b>\n",
        "</font>\n",
        "<br>\n",
        "<br>\n",
        "<br>\n",
        "<font>\n",
        "دانشگاه صنعتی شریف\n",
        "<br>\n",
        "دانشکده مهندسی کامپیوتر\n",
        "<br>\n",
        "<br>\n",
        "</font>\n",
        "</div>\n",
        "</font>\n",
        "</div>"
      ]
    },
    {
      "cell_type": "markdown",
      "metadata": {
        "id": "y3YoNVsQR3zO"
      },
      "source": [
        "<p></p>\n",
        "<div dir=\"rtl\">\n",
        "<font face=\"XB Zar\" size=4>\n",
        "    <h1>\n",
        "    <b>مقدمه</b>\n",
        "    </h1>\n",
        "    <p></p>\n",
        "    <p></p>\n",
        "    هدف از فاز اول پروژه، طراحی و پیاده‌سازی سیستم بازیابی اطلاعات برای مجموعه دادگان تعیین شده می‌باشد.<br>\n",
        "    اولین مرحله، پیش‌پردازش مجموعه دادگان است. پس از آن نمایه‌ها با ویژگی‌های خواسته شده پیاده‌سازی می‌شود. در گام بعدی به ذخیره و بازخوانی نمایه‌ها به همراه روش‌های فشرده‌سازی پرداخته می‌شود. پس از آن تکنیک‌های اصلاح پرسمان پیاده‌سازی شده و در نهایت جستجو روی دادگان صورت می‌گیرد. همچنین در بخش آخر با پیاده‌سازی برخی معیارهای ارزیابی، عملکرد سیستم مورد سنجش قرار می‌گیرد.<br><br>\n",
        "     توضیحات مربوط به هر بخش در ادامه آمده است که اهداف، محدودیت‌ها و خواسته‌های آن بخش را مشخص می‌کند.\n",
        "     در هر بخش توابعی مشخص شده است که محتوای آن با کد نوشته شده توسط شما باید پر شود. شما می‌توانید در همین فایل، سیستم بازیابی خود را پیاده‌سازی کنید یا فایل‌های خودتان را ایمپورت کرده و از آن‌ها استفاده کنید. در هر صورت تمامی کدهای لازم را به همراه این نوت‌بوک ارسال کنید. همچنین در نظر داشته باشید که ملاک اصلی نمره‌دهی شما اجرای صحیح توابع مشخص‌شده در این نوت‌بوک می‌باشد. بنابراین از صحت اجرای نوت‌بوک خود اطمینان پیدا کنید.<br><br>\n",
        "     تنها زبان قابل قبول برای پروژه پایتون است. محدودیت استفاده از کتاب‌خانه‌های آماده در هر بخش مشخص شده است. پروژه ۱۱۵ نمره دارد که ۱۵ نمره از آن امتیازی و مربوط به بخش اصلاح پرسمان می‌باشد.\n",
        "    \n",
        "    \n",
        "</font>\n",
        "</div>\n",
        "<p></p>"
      ]
    },
    {
      "cell_type": "markdown",
      "metadata": {
        "id": "jaR5CS_khMQB"
      },
      "source": [
        "<div dir=\"rtl\">\n",
        "<font face=\"XB Zar\" size=4>\n",
        "    <h1>\n",
        "    <b>مجموعه دادگان</b>\n",
        "    </h1>\n",
        "    مجموعه دادگان مورد بررسی در این پروژه از سایت kaggle فراهم شده است. این مجموعه شامل اطلاعات ۶۰۰۰ فیلم سینمایی از سال ۱۹۰۴ تا ۲۰۱۷ است. داده‌ها در قالب فایل csv   دارای ستون‌‌های plot، title، id می‌باشد. id یک شناسه یکتا برای هر فیلم است که برای ارزیابی بهتر عملکرد شما به داده‌ها اضافه شده است و در مجموعه دادگان اصلی وجود نداشته است. همانطور که می‌دانید برای پیاده‌سازی نمایه باید به هر داکیومنت یک شناسه اختصاص بدهید. <b>شناسه مربوط به هر داکیومنت باید id ذکر شده برای آن در مجموعه دادگان باشد.</b> هر فیلم از دو بخش title و plot  تشکیل شده است که از این دو بخش در ساخت نمایه و جستجو استفاده می‌شود. plot خلاصه‌ای از طرح داستان فیلم است.<br>\n",
        "    علاوه بر مجموعه دادگان اصلی، تعدای پرسمان در اختیار شما قرار گرفته است. همچنین جواب مطلوب هر یک از این پرسمان‌ها نیز فراهم شده که طبیعتا زیرمجموعه‌ای از مجموعه دادگان است. شما باید از این پرسمان‌ها و نتیجه مورد انتظار هر کدام برای ارزیابی سامانه خود استفاده کنید.\n",
        "    پرسمان‌ها و شناسه فیلم‌های بازیابی شده مورد انتظار از هر پرسمان در فایل validation.json آمده است. توضیحات بیشتر در رابطه با استفاده از این فایل در بخش ارزیابی آمده است.\n",
        "</font>\n",
        "</div>"
      ]
    },
    {
      "cell_type": "markdown",
      "metadata": {
        "id": "PxNntHofmHHH"
      },
      "source": [
        "<div dir=\"rtl\">\n",
        "<font face=\"XB Zar\" size=4>\n",
        "    <h1>\n",
        "    <b>پیش‌پردازش و آماده‌سازی داده‌ها (۱۵ نمره)</b>\n",
        "    </h1>\n",
        "    در این بخش ابتدا داده‌ها را از فایل بخوانید. برای آماده‌سازی متن می‌توانید از کتاب‌خانه‌های آماده استفاده کنید. یکی از کتاب‌خانه‌های معروف برای این کار <a href=\"https://www.nltk.org/\">NLTK</a> است اما در انتخاب روش پیاده‌سازی این بخش مختارید. برای این بخش باید تابع ()prepare_text را تکمیل کنید. این تابع یک متن انگلیسی ورودی گرفته و توکن‌‌های مربوط به آن‌را در قالب یک لیست خروجی می‌دهد. متن ورودی در عمل تایتل یا طرح داستان هر فیلم است. دقت کنید که لیست خروجی شامل تعدادی توکن است که عملیات case folding، stemming و lemmatization روی آن‌ها اجرا شده است. در ضمن علائم نگارشی نباید به عنوان توکن در نظر گرفته شود. در کد زیر یک نمونه ورودی و خروجی نمایش داده شده است. با توجه به نحوه پیاده‌سازی انواع بازگردانی به ریشه قابل قبول است.\n",
        "</font>\n",
        "</div>"
      ]
    },
    {
      "cell_type": "code",
      "metadata": {
        "id": "fmRyevpGuC72",
        "collapsed": true,
        "colab": {
          "base_uri": "https://localhost:8080/"
        },
        "outputId": "3557ce49-bf5c-48ec-ff82-f3c071c9f40a"
      },
      "source": [
        "!pip install --user -U nltk"
      ],
      "execution_count": null,
      "outputs": [
        {
          "output_type": "stream",
          "text": [
            "Requirement already up-to-date: nltk in /root/.local/lib/python3.7/site-packages (3.5)\n",
            "Requirement already satisfied, skipping upgrade: tqdm in /usr/local/lib/python3.7/dist-packages (from nltk) (4.41.1)\n",
            "Requirement already satisfied, skipping upgrade: click in /usr/local/lib/python3.7/dist-packages (from nltk) (7.1.2)\n",
            "Requirement already satisfied, skipping upgrade: joblib in /usr/local/lib/python3.7/dist-packages (from nltk) (1.0.1)\n",
            "Requirement already satisfied, skipping upgrade: regex in /usr/local/lib/python3.7/dist-packages (from nltk) (2019.12.20)\n"
          ],
          "name": "stdout"
        }
      ]
    },
    {
      "cell_type": "code",
      "metadata": {
        "collapsed": true,
        "id": "taSgQKqAvJkQ",
        "colab": {
          "base_uri": "https://localhost:8080/"
        },
        "outputId": "7061460f-d904-49e1-aa79-c68fb9d68779"
      },
      "source": [
        "import nltk\n",
        "nltk.download('wordnet')"
      ],
      "execution_count": null,
      "outputs": [
        {
          "output_type": "stream",
          "text": [
            "[nltk_data] Downloading package wordnet to /root/nltk_data...\n",
            "[nltk_data]   Package wordnet is already up-to-date!\n"
          ],
          "name": "stdout"
        },
        {
          "output_type": "execute_result",
          "data": {
            "text/plain": [
              "True"
            ]
          },
          "metadata": {
            "tags": []
          },
          "execution_count": 6
        }
      ]
    },
    {
      "cell_type": "code",
      "metadata": {
        "id": "CUSdffOzuErz"
      },
      "source": [
        "import numpy as np\n",
        "import pandas as pd\n",
        "import matplotlib.pyplot as plt\n",
        "import seaborn as sn\n",
        "import re\n",
        "import string as sr\n",
        "import math\n",
        "import json"
      ],
      "execution_count": null,
      "outputs": []
    },
    {
      "cell_type": "code",
      "metadata": {
        "colab": {
          "base_uri": "https://localhost:8080/"
        },
        "id": "O4kGEPzGtILF",
        "outputId": "9f577d25-20b1-4e0e-ba08-cf176d969745"
      },
      "source": [
        "from google.colab import drive\n",
        "drive.mount('/content/drive')"
      ],
      "execution_count": null,
      "outputs": [
        {
          "output_type": "stream",
          "text": [
            "Mounted at /content/drive\n"
          ],
          "name": "stdout"
        }
      ]
    },
    {
      "cell_type": "code",
      "metadata": {
        "colab": {
          "base_uri": "https://localhost:8080/",
          "height": 406
        },
        "id": "9yrbMR96ucrA",
        "outputId": "956f4568-850e-450d-d0e5-7b591badbcd4"
      },
      "source": [
        "df = pd.read_csv('/content/drive/MyDrive/Colab Notebooks/movies.csv')\n",
        "# df = pd.read_csv('movies.csv')\n",
        "df"
      ],
      "execution_count": null,
      "outputs": [
        {
          "output_type": "execute_result",
          "data": {
            "text/html": [
              "<div>\n",
              "<style scoped>\n",
              "    .dataframe tbody tr th:only-of-type {\n",
              "        vertical-align: middle;\n",
              "    }\n",
              "\n",
              "    .dataframe tbody tr th {\n",
              "        vertical-align: top;\n",
              "    }\n",
              "\n",
              "    .dataframe thead th {\n",
              "        text-align: right;\n",
              "    }\n",
              "</style>\n",
              "<table border=\"1\" class=\"dataframe\">\n",
              "  <thead>\n",
              "    <tr style=\"text-align: right;\">\n",
              "      <th></th>\n",
              "      <th>id</th>\n",
              "      <th>title</th>\n",
              "      <th>plot</th>\n",
              "    </tr>\n",
              "  </thead>\n",
              "  <tbody>\n",
              "    <tr>\n",
              "      <th>0</th>\n",
              "      <td>1</td>\n",
              "      <td>The Suburbanite</td>\n",
              "      <td>The film is about a family who move to the sub...</td>\n",
              "    </tr>\n",
              "    <tr>\n",
              "      <th>1</th>\n",
              "      <td>2</td>\n",
              "      <td>Laughing Gas</td>\n",
              "      <td>The plot is that of a black woman going to the...</td>\n",
              "    </tr>\n",
              "    <tr>\n",
              "      <th>2</th>\n",
              "      <td>3</td>\n",
              "      <td>A Calamitous Elopement</td>\n",
              "      <td>A young couple decides to elope after being ca...</td>\n",
              "    </tr>\n",
              "    <tr>\n",
              "      <th>3</th>\n",
              "      <td>4</td>\n",
              "      <td>The Call of the Wild</td>\n",
              "      <td>A white girl (Florence Lawrence) rejects a pro...</td>\n",
              "    </tr>\n",
              "    <tr>\n",
              "      <th>4</th>\n",
              "      <td>5</td>\n",
              "      <td>A Lad from Old Ireland</td>\n",
              "      <td>An Irish boy (Olcott) emigrates to America to ...</td>\n",
              "    </tr>\n",
              "    <tr>\n",
              "      <th>...</th>\n",
              "      <td>...</td>\n",
              "      <td>...</td>\n",
              "      <td>...</td>\n",
              "    </tr>\n",
              "    <tr>\n",
              "      <th>5995</th>\n",
              "      <td>5996</td>\n",
              "      <td>The Glass Castle</td>\n",
              "      <td>The unconventional, poverty-stricken upbringin...</td>\n",
              "    </tr>\n",
              "    <tr>\n",
              "      <th>5996</th>\n",
              "      <td>5997</td>\n",
              "      <td>The Good Catholic</td>\n",
              "      <td>Three Catholic priests live in a rectory toget...</td>\n",
              "    </tr>\n",
              "    <tr>\n",
              "      <th>5997</th>\n",
              "      <td>5998</td>\n",
              "      <td>The Outcasts</td>\n",
              "      <td>Best friends Mindy (Eden Sher) and Jodi (Victo...</td>\n",
              "    </tr>\n",
              "    <tr>\n",
              "      <th>5998</th>\n",
              "      <td>5999</td>\n",
              "      <td>The Shack</td>\n",
              "      <td>Mackenzie \"Mack\" Phillips suffered physical an...</td>\n",
              "    </tr>\n",
              "    <tr>\n",
              "      <th>5999</th>\n",
              "      <td>6000</td>\n",
              "      <td>Wonder</td>\n",
              "      <td>August \"Auggie\" Pullman is a young boy raised ...</td>\n",
              "    </tr>\n",
              "  </tbody>\n",
              "</table>\n",
              "<p>6000 rows × 3 columns</p>\n",
              "</div>"
            ],
            "text/plain": [
              "        id  ...                                               plot\n",
              "0        1  ...  The film is about a family who move to the sub...\n",
              "1        2  ...  The plot is that of a black woman going to the...\n",
              "2        3  ...  A young couple decides to elope after being ca...\n",
              "3        4  ...  A white girl (Florence Lawrence) rejects a pro...\n",
              "4        5  ...  An Irish boy (Olcott) emigrates to America to ...\n",
              "...    ...  ...                                                ...\n",
              "5995  5996  ...  The unconventional, poverty-stricken upbringin...\n",
              "5996  5997  ...  Three Catholic priests live in a rectory toget...\n",
              "5997  5998  ...  Best friends Mindy (Eden Sher) and Jodi (Victo...\n",
              "5998  5999  ...  Mackenzie \"Mack\" Phillips suffered physical an...\n",
              "5999  6000  ...  August \"Auggie\" Pullman is a young boy raised ...\n",
              "\n",
              "[6000 rows x 3 columns]"
            ]
          },
          "metadata": {
            "tags": []
          },
          "execution_count": 9
        }
      ]
    },
    {
      "cell_type": "code",
      "metadata": {
        "id": "9aa16Puk-if0",
        "colab": {
          "base_uri": "https://localhost:8080/"
        },
        "outputId": "a9cc5f60-6c57-4fb2-9531-ce96e9cbd263"
      },
      "source": [
        "from nltk.tokenize import TweetTokenizer\n",
        "from nltk.stem import PorterStemmer\n",
        "from nltk.stem import WordNetLemmatizer\n",
        "\n",
        "\n",
        "def prepare_text(raw_text):\n",
        "    \n",
        "    # Lower case and del numbers\n",
        "    raw_text = raw_text.lower()\n",
        "    raw_text = re.sub(r'\\d+', '', raw_text)\n",
        "\n",
        "    # Tokenize and Delete puncuations and whitespaces\n",
        "    raw_text = raw_text.strip()\n",
        "    tokenizer = nltk.RegexpTokenizer(r\"\\w+\")\n",
        "    output = tokenizer.tokenize(raw_text)\n",
        "    \n",
        "    # Lemmatizer\n",
        "    for i in range(len(output)):\n",
        "      output[i] = WordNetLemmatizer().lemmatize(output[i], pos=\"v\")\n",
        "    \n",
        "    # PorterStemmer\n",
        "    for i in range(len(output)):\n",
        "      output[i] = PorterStemmer().stem(output[i])\n",
        "    \n",
        "    return output\n",
        "\n",
        "prepare_text(\"Edvard was a Runner. He was always running is.\")"
      ],
      "execution_count": null,
      "outputs": [
        {
          "output_type": "execute_result",
          "data": {
            "text/plain": [
              "['edvard', 'be', 'a', 'runner', 'he', 'be', 'alway', 'run', 'be']"
            ]
          },
          "metadata": {
            "tags": []
          },
          "execution_count": 10
        }
      ]
    },
    {
      "cell_type": "markdown",
      "metadata": {
        "id": "WVhVEO6VARIa"
      },
      "source": [
        "<div dir=\"rtl\">\n",
        "<font face=\"XB Zar\" size=4>\n",
        "    <h1>\n",
        "    <b>شناسایی و حذف stop-words (۵ نمره)</b>\n",
        "    </h1>\n",
        "    این بخش باید توسط خودتان و بدون استفاده از کد آماده پیاده‌سازی شود. ترم‌های موجود در مجموعه دادگان را بر اساس تکرار آن‌ها مرتب کرده و پرتکرارترین آن‌ها را به عنوان stop-words در نظر بگیرید. اینکه چند ترم را به عنوان stop-words در نظر بگیرید به عهده خودتان است.<br>\n",
        "    با فراخوانی تابع ()get_stop_words لیست stop-words به همراه تعداد تکرار آن‌‌ها خروجی داده می‌شود.<br>\n",
        "    ترم‌های به دست آمده از این بخش نباید در نمایه حضور داشته باشند.\n",
        "</font>\n",
        "</div>"
      ]
    },
    {
      "cell_type": "code",
      "metadata": {
        "id": "B-0YxOUeBGDY",
        "colab": {
          "base_uri": "https://localhost:8080/"
        },
        "outputId": "6d879af8-d0c6-4878-e12a-a1e08e7022ab"
      },
      "source": [
        "from collections import Counter \n",
        "\n",
        "\n",
        "def get_stop_words():\n",
        "    \n",
        "    words = {}\n",
        "    for row in df.itertuples():\n",
        "      prepared_title = prepare_text(row.title)\n",
        "      prepared_plot = prepare_text(row.plot)\n",
        "      \n",
        "      for term in prepared_title:\n",
        "        if term in words.keys():\n",
        "          words[term] += 1\n",
        "        else:\n",
        "          words[term] = 1\n",
        "      for term in prepared_plot:\n",
        "        if term in words.keys():\n",
        "          words[term] += 1\n",
        "        else:\n",
        "          words[term] = 1\n",
        "\n",
        "    high_values = Counter(words).most_common(len(words) // 1500)\n",
        "    stop_words = {k: v for k, v in high_values}\n",
        "\n",
        "    return stop_words\n",
        "\n",
        "\n",
        "stop_words_dict = get_stop_words()\n",
        "stop_words_list = [*stop_words_dict]\n",
        "print(stop_words_dict)\n",
        "print(stop_words_list)"
      ],
      "execution_count": null,
      "outputs": [
        {
          "output_type": "stream",
          "text": [
            "{'the': 147470, 'to': 91732, 'and': 83270, 'be': 69098, 'a': 68069, 'of': 42862, 'in': 38985, 'hi': 34776, 'he': 32344, 's': 31710, 'her': 28025, 'that': 26301, 'with': 25064, 'have': 20204, 'him': 18931, 'by': 17855, 'for': 17608, 'she': 17596, 'as': 15646, 'on': 14962, 'but': 13530, 'they': 13357, 'who': 12749, 'at': 12353}\n",
            "['the', 'to', 'and', 'be', 'a', 'of', 'in', 'hi', 'he', 's', 'her', 'that', 'with', 'have', 'him', 'by', 'for', 'she', 'as', 'on', 'but', 'they', 'who', 'at']\n"
          ],
          "name": "stdout"
        }
      ]
    },
    {
      "cell_type": "code",
      "metadata": {
        "colab": {
          "base_uri": "https://localhost:8080/",
          "height": 406
        },
        "id": "Lu5ErdwibXSP",
        "outputId": "87717558-4619-4675-b988-a7da51890ee3"
      },
      "source": [
        "# new dataframe with lists of words and preprocessed them instead of string\n",
        "df2 = pd.DataFrame(columns=['id', 'title', 'plot'])\n",
        "for i in range(6000):\n",
        "  df2.loc[len(df2.index)] = [i, prepare_text(df['title'].loc[i]), prepare_text(df['plot'].loc[i])]\n",
        "df2"
      ],
      "execution_count": null,
      "outputs": [
        {
          "output_type": "execute_result",
          "data": {
            "text/html": [
              "<div>\n",
              "<style scoped>\n",
              "    .dataframe tbody tr th:only-of-type {\n",
              "        vertical-align: middle;\n",
              "    }\n",
              "\n",
              "    .dataframe tbody tr th {\n",
              "        vertical-align: top;\n",
              "    }\n",
              "\n",
              "    .dataframe thead th {\n",
              "        text-align: right;\n",
              "    }\n",
              "</style>\n",
              "<table border=\"1\" class=\"dataframe\">\n",
              "  <thead>\n",
              "    <tr style=\"text-align: right;\">\n",
              "      <th></th>\n",
              "      <th>id</th>\n",
              "      <th>title</th>\n",
              "      <th>plot</th>\n",
              "    </tr>\n",
              "  </thead>\n",
              "  <tbody>\n",
              "    <tr>\n",
              "      <th>0</th>\n",
              "      <td>0</td>\n",
              "      <td>[the, suburbanit]</td>\n",
              "      <td>[the, film, be, about, a, famili, who, move, t...</td>\n",
              "    </tr>\n",
              "    <tr>\n",
              "      <th>1</th>\n",
              "      <td>1</td>\n",
              "      <td>[laugh, ga]</td>\n",
              "      <td>[the, plot, be, that, of, a, black, woman, go,...</td>\n",
              "    </tr>\n",
              "    <tr>\n",
              "      <th>2</th>\n",
              "      <td>2</td>\n",
              "      <td>[a, calamit, elop]</td>\n",
              "      <td>[a, young, coupl, decid, to, elop, after, be, ...</td>\n",
              "    </tr>\n",
              "    <tr>\n",
              "      <th>3</th>\n",
              "      <td>3</td>\n",
              "      <td>[the, call, of, the, wild]</td>\n",
              "      <td>[a, white, girl, florenc, lawrenc, reject, a, ...</td>\n",
              "    </tr>\n",
              "    <tr>\n",
              "      <th>4</th>\n",
              "      <td>4</td>\n",
              "      <td>[a, lad, from, old, ireland]</td>\n",
              "      <td>[an, irish, boy, olcott, emigr, to, america, t...</td>\n",
              "    </tr>\n",
              "    <tr>\n",
              "      <th>...</th>\n",
              "      <td>...</td>\n",
              "      <td>...</td>\n",
              "      <td>...</td>\n",
              "    </tr>\n",
              "    <tr>\n",
              "      <th>5995</th>\n",
              "      <td>5995</td>\n",
              "      <td>[the, glass, castl]</td>\n",
              "      <td>[the, unconvent, poverti, stricken, upbring, w...</td>\n",
              "    </tr>\n",
              "    <tr>\n",
              "      <th>5996</th>\n",
              "      <td>5996</td>\n",
              "      <td>[the, good, cathol]</td>\n",
              "      <td>[three, cathol, priest, live, in, a, rectori, ...</td>\n",
              "    </tr>\n",
              "    <tr>\n",
              "      <th>5997</th>\n",
              "      <td>5997</td>\n",
              "      <td>[the, outcast]</td>\n",
              "      <td>[best, friend, mindi, eden, sher, and, jodi, v...</td>\n",
              "    </tr>\n",
              "    <tr>\n",
              "      <th>5998</th>\n",
              "      <td>5998</td>\n",
              "      <td>[the, shack]</td>\n",
              "      <td>[mackenzi, mack, phillip, suffer, physic, and,...</td>\n",
              "    </tr>\n",
              "    <tr>\n",
              "      <th>5999</th>\n",
              "      <td>5999</td>\n",
              "      <td>[wonder]</td>\n",
              "      <td>[august, auggi, pullman, be, a, young, boy, ra...</td>\n",
              "    </tr>\n",
              "  </tbody>\n",
              "</table>\n",
              "<p>6000 rows × 3 columns</p>\n",
              "</div>"
            ],
            "text/plain": [
              "        id  ...                                               plot\n",
              "0        0  ...  [the, film, be, about, a, famili, who, move, t...\n",
              "1        1  ...  [the, plot, be, that, of, a, black, woman, go,...\n",
              "2        2  ...  [a, young, coupl, decid, to, elop, after, be, ...\n",
              "3        3  ...  [a, white, girl, florenc, lawrenc, reject, a, ...\n",
              "4        4  ...  [an, irish, boy, olcott, emigr, to, america, t...\n",
              "...    ...  ...                                                ...\n",
              "5995  5995  ...  [the, unconvent, poverti, stricken, upbring, w...\n",
              "5996  5996  ...  [three, cathol, priest, live, in, a, rectori, ...\n",
              "5997  5997  ...  [best, friend, mindi, eden, sher, and, jodi, v...\n",
              "5998  5998  ...  [mackenzi, mack, phillip, suffer, physic, and,...\n",
              "5999  5999  ...  [august, auggi, pullman, be, a, young, boy, ra...\n",
              "\n",
              "[6000 rows x 3 columns]"
            ]
          },
          "metadata": {
            "tags": []
          },
          "execution_count": 12
        }
      ]
    },
    {
      "cell_type": "code",
      "metadata": {
        "colab": {
          "base_uri": "https://localhost:8080/",
          "height": 406
        },
        "id": "s7Fr_uB2rWE8",
        "outputId": "094301bb-be7d-4cf6-864b-d63f98508462"
      },
      "source": [
        "# finally preprocessed dataframe without STOPWORDS :)\n",
        "def Diff(li1, li2):\n",
        "  li_dif = [i for i in li1 + li2 if i in li1 and i not in li2]\n",
        "  return li_dif\n",
        " \n",
        "for i in range(6000):\n",
        "  df2['title'].loc[i] = Diff(df2['title'].loc[i], stop_words_list)\n",
        "  df2['plot'].loc[i] = Diff(df2['plot'].loc[i], stop_words_list)\n",
        "df2"
      ],
      "execution_count": null,
      "outputs": [
        {
          "output_type": "execute_result",
          "data": {
            "text/html": [
              "<div>\n",
              "<style scoped>\n",
              "    .dataframe tbody tr th:only-of-type {\n",
              "        vertical-align: middle;\n",
              "    }\n",
              "\n",
              "    .dataframe tbody tr th {\n",
              "        vertical-align: top;\n",
              "    }\n",
              "\n",
              "    .dataframe thead th {\n",
              "        text-align: right;\n",
              "    }\n",
              "</style>\n",
              "<table border=\"1\" class=\"dataframe\">\n",
              "  <thead>\n",
              "    <tr style=\"text-align: right;\">\n",
              "      <th></th>\n",
              "      <th>id</th>\n",
              "      <th>title</th>\n",
              "      <th>plot</th>\n",
              "    </tr>\n",
              "  </thead>\n",
              "  <tbody>\n",
              "    <tr>\n",
              "      <th>0</th>\n",
              "      <td>0</td>\n",
              "      <td>[suburbanit]</td>\n",
              "      <td>[film, about, famili, move, suburb, hop, quiet...</td>\n",
              "    </tr>\n",
              "    <tr>\n",
              "      <th>1</th>\n",
              "      <td>1</td>\n",
              "      <td>[laugh, ga]</td>\n",
              "      <td>[plot, black, woman, go, dentist, toothach, gi...</td>\n",
              "    </tr>\n",
              "    <tr>\n",
              "      <th>2</th>\n",
              "      <td>2</td>\n",
              "      <td>[calamit, elop]</td>\n",
              "      <td>[young, coupl, decid, elop, after, catch, mids...</td>\n",
              "    </tr>\n",
              "    <tr>\n",
              "      <th>3</th>\n",
              "      <td>3</td>\n",
              "      <td>[call, wild]</td>\n",
              "      <td>[white, girl, florenc, lawrenc, reject, propos...</td>\n",
              "    </tr>\n",
              "    <tr>\n",
              "      <th>4</th>\n",
              "      <td>4</td>\n",
              "      <td>[lad, from, old, ireland]</td>\n",
              "      <td>[an, irish, boy, olcott, emigr, america, escap...</td>\n",
              "    </tr>\n",
              "    <tr>\n",
              "      <th>...</th>\n",
              "      <td>...</td>\n",
              "      <td>...</td>\n",
              "      <td>...</td>\n",
              "    </tr>\n",
              "    <tr>\n",
              "      <th>5995</th>\n",
              "      <td>5995</td>\n",
              "      <td>[glass, castl]</td>\n",
              "      <td>[unconvent, poverti, stricken, upbring, wall, ...</td>\n",
              "    </tr>\n",
              "    <tr>\n",
              "      <th>5996</th>\n",
              "      <td>5996</td>\n",
              "      <td>[good, cathol]</td>\n",
              "      <td>[three, cathol, priest, live, rectori, togeth,...</td>\n",
              "    </tr>\n",
              "    <tr>\n",
              "      <th>5997</th>\n",
              "      <td>5997</td>\n",
              "      <td>[outcast]</td>\n",
              "      <td>[best, friend, mindi, eden, sher, jodi, victor...</td>\n",
              "    </tr>\n",
              "    <tr>\n",
              "      <th>5998</th>\n",
              "      <td>5998</td>\n",
              "      <td>[shack]</td>\n",
              "      <td>[mackenzi, mack, phillip, suffer, physic, emot...</td>\n",
              "    </tr>\n",
              "    <tr>\n",
              "      <th>5999</th>\n",
              "      <td>5999</td>\n",
              "      <td>[wonder]</td>\n",
              "      <td>[august, auggi, pullman, young, boy, rais, nor...</td>\n",
              "    </tr>\n",
              "  </tbody>\n",
              "</table>\n",
              "<p>6000 rows × 3 columns</p>\n",
              "</div>"
            ],
            "text/plain": [
              "        id  ...                                               plot\n",
              "0        0  ...  [film, about, famili, move, suburb, hop, quiet...\n",
              "1        1  ...  [plot, black, woman, go, dentist, toothach, gi...\n",
              "2        2  ...  [young, coupl, decid, elop, after, catch, mids...\n",
              "3        3  ...  [white, girl, florenc, lawrenc, reject, propos...\n",
              "4        4  ...  [an, irish, boy, olcott, emigr, america, escap...\n",
              "...    ...  ...                                                ...\n",
              "5995  5995  ...  [unconvent, poverti, stricken, upbring, wall, ...\n",
              "5996  5996  ...  [three, cathol, priest, live, rectori, togeth,...\n",
              "5997  5997  ...  [best, friend, mindi, eden, sher, jodi, victor...\n",
              "5998  5998  ...  [mackenzi, mack, phillip, suffer, physic, emot...\n",
              "5999  5999  ...  [august, auggi, pullman, young, boy, rais, nor...\n",
              "\n",
              "[6000 rows x 3 columns]"
            ]
          },
          "metadata": {
            "tags": []
          },
          "execution_count": 13
        }
      ]
    },
    {
      "cell_type": "markdown",
      "metadata": {
        "id": "A4Z02BzNHD1z"
      },
      "source": [
        "<div dir=\"rtl\">\n",
        "<font face=\"XB Zar\" size=4>\n",
        "    <h1>\n",
        "    <b>نمایه‌سازی (۱۵ نمره)</b>\n",
        "    </h1>\n",
        "    در این بخش باید برای سامانه positional index بسازید. برای هر ترم باید مشخص باشد که آن ترم در تایتل چه فیلم‌هایی و در چه جایگاهی از تایتل هر فیلم قرار گرفته است. همچنین برای هر ترم باید مشخص باشد که آن ترم در طرح داستان چه فیلم‌هایی و در چه جایگاهی از طرح داستان هر فیلم قرار گرفته است.<br>\n",
        "     برای ارزیابی بهتر و عادلانه‌تر به ویژه برای ارزیابی بخش فشرده‌سازی، از استاندارد بیان شده در قطعه کد زیر برای ذخیره posting list هر ترم در RAM استفاده کنید.\n",
        "</font>\n",
        "</div>"
      ]
    },
    {
      "cell_type": "code",
      "metadata": {
        "id": "zJy4LiraBm8E",
        "collapsed": true
      },
      "source": [
        "def create_positional_index():\n",
        "    \n",
        "    positional_index = {}\n",
        "    for row in df2.itertuples(): \n",
        "      title_posting_dict = {}\n",
        "      plot_posting_dict = {}\n",
        "      \n",
        "      for i in range(len(row.title)):\n",
        "        if row.title[i] in title_posting_dict:\n",
        "          title_posting_dict[row.title[i]].append(i)\n",
        "        else:\n",
        "          title_posting_dict[row.title[i]] = [i]\n",
        "\n",
        "      for i in range(len(row.plot)):\n",
        "        if row.plot[i] in plot_posting_dict:\n",
        "          plot_posting_dict[row.plot[i]].append(i)\n",
        "        else:\n",
        "          plot_posting_dict[row.plot[i]] = [i]\n",
        "\n",
        "      for key in title_posting_dict:\n",
        "        if key in positional_index.keys():\n",
        "          positional_index[key][0].append([row.id, title_posting_dict[key]])\n",
        "        else:\n",
        "          positional_index[key] = [[[row.id, title_posting_dict[key]]], []]\n",
        "\n",
        "      for key in plot_posting_dict:\n",
        "        if key in positional_index.keys():\n",
        "          positional_index[key][1].append([row.id, plot_posting_dict[key]])\n",
        "        else:\n",
        "          positional_index[key] = [[], [[row.id, plot_posting_dict[key]]]]\n",
        "\n",
        "    return positional_index\n",
        "\n",
        "pos_idx = create_positional_index()\n",
        "# pos_idx"
      ],
      "execution_count": null,
      "outputs": []
    },
    {
      "cell_type": "markdown",
      "metadata": {
        "id": "voqMrk4rg1qk"
      },
      "source": [
        "<div dir=\"rtl\">\n",
        "<font face=\"XB Zar\" size=4>\n",
        "    <h1>\n",
        "    <b>پویا‌سازی نمایه (۱۰ نمره)</b>\n",
        "    </h1>\n",
        "    نمایه ایجاد شده باید قابلیت حذف و اضافه تک داکیومنت را داشته باشد.\n",
        "    برای اضافه شدن داکیومنت، به تابع ()add_single_document یک رشته داده می‌شود که اطلاعات مربوط به داکیومنت شامل id و plot و title در آن با کاما جدا شده است. برای حذف داکیومنت نیز id آن به تابع ()remove_single_document داده می‌شود.<br>\n",
        "    تضمین می‌شود که شرط یکتا بودن id داکیومنت‌ها نقض نشود. برای مثال دو داکیومنت با شناسه یکسان به مجموعه اضافه نخواهد شد. البته ممکن است حذف شده و دوباره اضافه شود.\n",
        "</font>\n",
        "</div>"
      ]
    },
    {
      "cell_type": "code",
      "metadata": {
        "id": "e1Ej2n3MB6ef",
        "colab": {
          "base_uri": "https://localhost:8080/"
        },
        "outputId": "fb0d5fbf-70c6-4029-ac66-6c433a1e928f"
      },
      "source": [
        "def add_single_documnet(document):\n",
        "    \n",
        "    id, title, plot = document.split(',')\n",
        "    id = int(id)\n",
        "    title = Diff(prepare_text(title), stop_words_list)\n",
        "    plot = Diff(prepare_text(plot), stop_words_list)\n",
        "\n",
        "    title_posting_dict = {}\n",
        "    plot_posting_dict = {}\n",
        "      \n",
        "    for i in range(len(title)):\n",
        "      if title[i] in title_posting_dict:\n",
        "        title_posting_dict[title[i]].append(i)\n",
        "      else:\n",
        "        title_posting_dict[title[i]] = [i]\n",
        "\n",
        "    for i in range(len(plot)):\n",
        "      if plot[i] in plot_posting_dict:\n",
        "        plot_posting_dict[plot[i]].append(i)\n",
        "      else:\n",
        "        plot_posting_dict[plot[i]] = [i]\n",
        "\n",
        "    for key in title_posting_dict:\n",
        "      if key in pos_idx.keys():\n",
        "        pos_idx[key][0].append([id, title_posting_dict[key]])\n",
        "        pos_idx[key][0].sort()\n",
        "      else:\n",
        "        pos_idx[key] = [[[id, title_posting_dict[key]]], []]\n",
        "\n",
        "    for key in plot_posting_dict:\n",
        "      if key in pos_idx.keys():\n",
        "        pos_idx[key][1].append([id, plot_posting_dict[key]])\n",
        "        pos_idx[key][1].sort()\n",
        "      else:\n",
        "        pos_idx[key] = [[], [[id, plot_posting_dict[key]]]]\n",
        "\n",
        "    return True\n",
        "\n",
        "new_document = \"123456,The Adventures of Sherlock Holmes,The picture begins with Moriarty and Holmes verbally sparring on the steps KalamehJadidVaseTest\"\n",
        "add_single_documnet(new_document)"
      ],
      "execution_count": null,
      "outputs": [
        {
          "output_type": "execute_result",
          "data": {
            "text/plain": [
              "True"
            ]
          },
          "metadata": {
            "tags": []
          },
          "execution_count": 15
        }
      ]
    },
    {
      "cell_type": "code",
      "metadata": {
        "colab": {
          "base_uri": "https://localhost:8080/"
        },
        "id": "8anqUDy-nxiK",
        "outputId": "a4f35598-c7b8-4f74-e255-d701ac302347"
      },
      "source": [
        "print(len(pos_idx))\n",
        "pos_idx['kalamehjadidvasetest']"
      ],
      "execution_count": null,
      "outputs": [
        {
          "output_type": "stream",
          "text": [
            "36879\n"
          ],
          "name": "stdout"
        },
        {
          "output_type": "execute_result",
          "data": {
            "text/plain": [
              "[[], [[123456, [7]]]]"
            ]
          },
          "metadata": {
            "tags": []
          },
          "execution_count": 16
        }
      ]
    },
    {
      "cell_type": "code",
      "metadata": {
        "id": "DsarzVzhDoMi",
        "colab": {
          "base_uri": "https://localhost:8080/"
        },
        "outputId": "84e7ca8d-0811-4bef-ab3e-28dc736e9eea"
      },
      "source": [
        "null_keys = []\n",
        "def remove_signle_document(document_id):\n",
        "    \n",
        "    id = document_id\n",
        "    for key in pos_idx:\n",
        "      for i in range(len(pos_idx[key][0])):\n",
        "        if pos_idx[key][0][i][0] == id:\n",
        "          pos_idx[key][0].pop(i)\n",
        "          break\n",
        "      \n",
        "      for i in range(len(pos_idx[key][1])):\n",
        "        if pos_idx[key][1][i][0] == id:\n",
        "          pos_idx[key][1].pop(i)\n",
        "          break\n",
        "      \n",
        "      if (len(pos_idx[key][0]) == 0) and (len(pos_idx[key][1]) == 0):\n",
        "        null_keys.append(key)\n",
        "    \n",
        "    for key in null_keys:\n",
        "      del pos_idx[key]\n",
        "    return True\n",
        "  \n",
        "remove_signle_document(123456)\n",
        "print(len(pos_idx))"
      ],
      "execution_count": null,
      "outputs": [
        {
          "output_type": "stream",
          "text": [
            "36878\n"
          ],
          "name": "stdout"
        }
      ]
    },
    {
      "cell_type": "code",
      "metadata": {
        "id": "oDmCTU32svgp",
        "colab": {
          "base_uri": "https://localhost:8080/"
        },
        "outputId": "92d704e3-6195-44cc-b307-5ca3f8fa2844"
      },
      "source": [
        "print('kalamehjadidvasetest' in pos_idx.keys())"
      ],
      "execution_count": null,
      "outputs": [
        {
          "output_type": "stream",
          "text": [
            "False\n"
          ],
          "name": "stdout"
        }
      ]
    },
    {
      "cell_type": "markdown",
      "metadata": {
        "id": "4PBbFcmpXFKD"
      },
      "source": [
        "<div dir=\"rtl\">\n",
        "<font face=\"XB Zar\" size=4>\n",
        "    <h1>\n",
        "    <b>ذخیره و فشرده‌سازی نمایه (۲۰ نمره)</b>\n",
        "    </h1>\n",
        "    در این بخش باید توانایی ذخیره کردن نمایه و بارگذاری مجدد آن را به سامانه اضافه کنید. ذخیره‌سازی به ۳ روش صورت می‌گیرد. بدون فشرده‌سازی، فشرده‌سازی از روش gamma-code و فشرده‌سازی از روش variable-byte. روش‌های فشرده‌سازی باید توسط خودتان پیاده‌سازی شود.\n",
        "    برای ذخیره نمایه در فایل نیز از JSON  استفاده کنید.<br>\n",
        "     بخشی از نمره شما در این قسمت به میزان فشرده‌سازی نمایه اختصاص داده شده است. بنابراین پیاده‌سازی بهینه روش‌های فشرده‌سازی مهم است.\n",
        "</font>\n",
        "</div>"
      ]
    },
    {
      "cell_type": "code",
      "metadata": {
        "id": "zYN9I4_BD178"
      },
      "source": [
        "import os\n",
        "def store_index(path, compression_type):\n",
        "\n",
        "  if compression_type == 'no-compression':\n",
        "    with open(path , \"w\") as f:\n",
        "        json.dump(pos_idx , f, sort_keys=True)\n",
        "    return os.path.getsize(path)\n",
        "\n",
        "  if compression_type == 'gamma-code':\n",
        "    #TODO: gamma\n",
        "    return False\n",
        "  \n",
        "  if compression_type == 'variable-byte':\n",
        "    #TODO: variable byte\n",
        "    return False\n",
        "\n",
        "\n",
        "# store_index(\"/content/drive/MyDrive/Colab Notebooks/tmp.json\", \"no-compression\")"
      ],
      "execution_count": null,
      "outputs": []
    },
    {
      "cell_type": "code",
      "metadata": {
        "id": "3Dm38ZXHFQVH"
      },
      "source": [
        "def load_index(path, compression_type):\n",
        "    \n",
        "  if compression_type == 'no-compression':\n",
        "    with open(path) as f:\n",
        "        out = json.load(f)\n",
        "    return out\n",
        "\n",
        "  if compression_type == 'gamma-code':\n",
        "    #TODO: gamma\n",
        "    return False\n",
        "  \n",
        "  if compression_type == 'variable-byte':\n",
        "    #TODO: variable byte\n",
        "    return False\n",
        "\n",
        "\n",
        "# load_index(\"/content/drive/MyDrive/Colab Notebooks/tmp.json\", \"no-compression\")"
      ],
      "execution_count": null,
      "outputs": []
    },
    {
      "cell_type": "markdown",
      "metadata": {
        "id": "4i-iLvu2nh2k"
      },
      "source": [
        "<div dir=\"rtl\">\n",
        "<font face=\"XB Zar\" size=4>\n",
        "    <h1>\n",
        "    <b>اصلاح پرسمان (۱۵ نمره امتیازی)</b>\n",
        "    </h1>\n",
        "    در صورتی که پرسمان ورودی دارای غلط املایی باشد یا به عبارتی لغاتی از آن در لغت‌نامه موجود نباشد، لازم است که با جستجوی لغت‌های احتمالی و انتخاب بهترین لغت به ادامه‌ی جستجو با پرسمان اصلاح شده پرداخته شود. برای اینکار ابتدا باید با روش bigram و معیار jaccard نزدیک‌ترین لغات به لغت با غلط املایی را پیدا کنید. سپس با استفاده از معیار edit distance بهترین لغت را از میان آن‌ها بیابید.<br>\n",
        "    نیازی به ذخیره‌سازی و فشرده‌سازی نمایه بایگرم نیست. همچنین می‌توانید از کد آماده برای محاسبه edit distance استفاده کنید.\n",
        "</font>\n",
        "</div>"
      ]
    },
    {
      "cell_type": "code",
      "metadata": {
        "id": "qMZTstsbL1G3"
      },
      "source": [
        "def create_bigram_index():\n",
        "    \n",
        "  bigram = {}\n",
        "  for key in pos_idx.keys():\n",
        "    if len(key) >= 2:\n",
        "      tmp_key = '$' + key + '$'\n",
        "      for i in range(len(tmp_key) - 2 + 1):\n",
        "        if tmp_key[i:i+2] in bigram:\n",
        "          if key not in bigram[tmp_key[i:i+2]]:\n",
        "            bigram[tmp_key[i:i+2]].append(key)\n",
        "        else:\n",
        "          bigram[tmp_key[i:i+2]] = [key]\n",
        "    else:\n",
        "      continue\n",
        "  # TODO: create bigram index\n",
        "  return bigram\n",
        "\n",
        "\n",
        "bigram = create_bigram_index()"
      ],
      "execution_count": null,
      "outputs": []
    },
    {
      "cell_type": "code",
      "metadata": {
        "id": "t5plaEN8fRG_"
      },
      "source": [
        "def intersect(ls1, ls2):\n",
        "  return [x for x in ls1 if x in ls2]\n",
        "\n",
        "def jaccard(w1, w2):\n",
        "  set1 = []\n",
        "  for i in range(len(w1) - 1):\n",
        "    set1.append(w1[i:i+2])\n",
        "  set2 = []\n",
        "  for i in range(len(w2) - 1):\n",
        "    set2.append(w2[i:i+2])\n",
        "  \n",
        "  return len(intersect(set1, set2)) / (len(set1) + len(set2) - len(intersect(set1, set2)))"
      ],
      "execution_count": null,
      "outputs": []
    },
    {
      "cell_type": "code",
      "metadata": {
        "id": "89GfdBN9pdWT"
      },
      "source": [
        "def suggestion_list(w):\n",
        "  word_bigram = []\n",
        "  for i in range(len(w) - 1):\n",
        "    word_bigram.append(w[i:i+2])\n",
        "  \n",
        "  suggestions = {}\n",
        "  for x in word_bigram:\n",
        "    if x in bigram.keys():\n",
        "      for y in bigram[x]:\n",
        "        if y not in suggestions.keys():\n",
        "          suggestions[y] = jaccard(w, y)\n",
        "  output = []\n",
        "  for key in suggestions.keys():\n",
        "    if suggestions[key] > 0.2:\n",
        "      output.append(key)\n",
        "\n",
        "  return output"
      ],
      "execution_count": null,
      "outputs": []
    },
    {
      "cell_type": "code",
      "metadata": {
        "id": "sL3E8C-nL1yG"
      },
      "source": [
        "def get_corrected_text(raw_text):\n",
        "\n",
        "  words = prepare_text(raw_text)\n",
        "\n",
        "  corrected_list = []\n",
        "  for term in words:  \n",
        "    sg_ls = suggestion_list(term)\n",
        "    min_value, sg_term = 100, ''\n",
        "    for sg in sg_ls:\n",
        "      if nltk.edit_distance(sg, term) < min_value:\n",
        "        min_value = nltk.edit_distance(sg, term)\n",
        "        sg_term = sg\n",
        "    corrected_list.append(sg_term)\n",
        "\n",
        "  corrected_text = ''\n",
        "  for i in range(len(corrected_list) - 1):\n",
        "    if words[i] in stop_words_list:\n",
        "      corrected_text += words[i] + ' '\n",
        "    else:\n",
        "      corrected_text += corrected_list[i] + ' '\n",
        "  \n",
        "  if len(words) != 0:\n",
        "    if words[-1] in stop_words_list:\n",
        "      corrected_text += words[-1]\n",
        "    else:\n",
        "      corrected_text += corrected_list[-1]\n",
        "\n",
        "  return corrected_text"
      ],
      "execution_count": null,
      "outputs": []
    },
    {
      "cell_type": "markdown",
      "metadata": {
        "id": "-BWhdHJbs1zy"
      },
      "source": [
        "<div dir=\"rtl\">\n",
        "<font face=\"XB Zar\" size=4>\n",
        "    <h1>\n",
        "    <b>جستجو و بازیابی اسناد (۲۵ نمره)</b>\n",
        "    </h1>\n",
        "    در این بخش جستجو ترتیب‌دار در فضای برداری tf-idf به روش <b>lnn-ltn</b> انجام می‌شود. یک پرسمان title و یک پرسمان plot ورودی گرفته شده و هر کدام در بخش مربوطه از اسناد جستجو می‌شوند. امتیاز نهایی هر سند برابر با جمع وزن‌دار امتیاز به دست آمده از جستجو در بخش title و plot است. به این صورت که وزن plot واحد در نظر گرفته شده و وزن تایتل به عنوان ورودی داده می‌شود.<br>\n",
        "    در نهایت اسناد برتر را نمایش دهید. تعداد حداکثر اسناد برتر نیز به عنوان ورودی داده می‌شود.<br><br>\n",
        "    نکته بسیار مهم نحوه نمایش اسناد انتخابی است. برای نمایش هر سند علاوه بر استفاده از شناسه و تیتر، یک هایلایت برای آن درست کنید. به این معنا که کلمات موجود در پرسمان را که باعث انتخاب سند شده‌اند به همراه ۲-۳ ترم قبل و بعد از آن به عنوان هایلایت آن سند نمایش دهید. اینگونه کاربر می‌تواند خیلی سریع دلیل بازیابی اسناد توسط سامانه را متوجه شود. مشابه کاری که سرچ گوگل انجام می‌دهد و ۲-۳ خط مربوطه را زیر وبسایت‌های پیشنهادی نمایش می‌دهد. طبیعتا راه حل بهینه برای این‌کار استفاده از قابلیت‌های نمایه جایگاهی می‌باشد.<br>\n",
        "</font>\n",
        "</div>"
      ]
    },
    {
      "cell_type": "code",
      "metadata": {
        "id": "3ndnPAN8bbzx"
      },
      "source": [
        "def highlight_index(idx, ln):\n",
        "  i, j = 0, 0\n",
        "  if idx <= 2:\n",
        "    i = 0\n",
        "  else:\n",
        "    i = idx - 2\n",
        "\n",
        "  if idx >= ln - 3:\n",
        "    j = ln - 1\n",
        "  else:\n",
        "    j = idx + 2\n",
        "\n",
        "  return i, j"
      ],
      "execution_count": null,
      "outputs": []
    },
    {
      "cell_type": "code",
      "metadata": {
        "id": "1qllv7ePda_4"
      },
      "source": [
        "def create_highlight(id, title_query, plot_query):\n",
        "\n",
        "  title_str = ''\n",
        "  for word in title_query:\n",
        "    if word in df2['title'].loc[id]:\n",
        "      idx = df2['title'].loc[id].index(word)\n",
        "      i, j = highlight_index(idx, len(df2['title'].loc[id]))\n",
        "      for k in range(i, j + 1):\n",
        "        if k != idx:\n",
        "          title_str += df2['title'].loc[id][k] + ' '\n",
        "        else:\n",
        "          title_str += '<b>' + df2['title'].loc[id][k] + '</b> '\n",
        "    \n",
        "  plot_str = ''\n",
        "  for word in plot_query:\n",
        "    if word in df2['plot'].loc[id]:\n",
        "      idx = df2['plot'].loc[id].index(word)\n",
        "      i, j = highlight_index(idx, len(df2['plot'].loc[id]))\n",
        "      for k in range(i, j + 1):\n",
        "        if k != idx:\n",
        "          plot_str += df2['plot'].loc[id][k] + ' '\n",
        "        else:\n",
        "          plot_str += '<b>' + df2['plot'].loc[id][k] + '</b> '\n",
        "    \n",
        "  return [title_str, plot_str]\n"
      ],
      "execution_count": null,
      "outputs": []
    },
    {
      "cell_type": "code",
      "metadata": {
        "id": "R0R2i_O4Gev_",
        "colab": {
          "base_uri": "https://localhost:8080/"
        },
        "outputId": "e64ecc1c-2680-4501-b5b6-c1550755414d"
      },
      "source": [
        "def search(title_query, plot_query, title_weight, max_result_count=10):\n",
        "    \n",
        "  title = Diff(prepare_text(get_corrected_text(title_query)), stop_words_list)\n",
        "  plot = Diff(prepare_text(get_corrected_text(plot_query)), stop_words_list)\n",
        "  \n",
        "  title_docs = {}\n",
        "  for q in title:\n",
        "    tf = 1 + math.log10(title.count(q))\n",
        "    if q in pos_idx:\n",
        "      if len(pos_idx[q][0]) != 0:\n",
        "        idf = math.log10(6000 / len(pos_idx[q][0]))\n",
        "      else:\n",
        "        idf = 0\n",
        "      for docs in pos_idx[q][0]:\n",
        "        doc_tf = 1 + math.log10(len(docs[1]))\n",
        "        if docs[0] in title_docs:\n",
        "          title_docs[docs[0]] += (tf * idf * doc_tf)\n",
        "        else:\n",
        "          title_docs[docs[0]] = (tf * idf * doc_tf)\n",
        "  for key in title_docs:\n",
        "    title_docs[key] *= title_weight\n",
        "\n",
        "\n",
        "  plot_docs = {}\n",
        "  for q in plot:\n",
        "    tf = 1 + math.log10(plot.count(q))\n",
        "    if q in pos_idx:\n",
        "      idf = math.log10(6000 / len(pos_idx[q][1]))\n",
        "      for docs in pos_idx[q][1]:\n",
        "        doc_tf = 1 + math.log10(len(docs[1]))\n",
        "        if docs[0] in plot_docs:\n",
        "          plot_docs[docs[0]] += (tf * idf * doc_tf)\n",
        "        else:\n",
        "          plot_docs[docs[0]] = (tf * idf * doc_tf)\n",
        "\n",
        "\n",
        "  all_docs = {}\n",
        "  for key in title_docs:\n",
        "    all_docs[key] = title_docs[key]\n",
        "  for key in plot_docs:\n",
        "    if key in all_docs:\n",
        "      all_docs[key] += plot_docs[key]\n",
        "    else:\n",
        "      all_docs[key] = plot_docs[key]\n",
        "  \n",
        "  ls = []\n",
        "  for key in all_docs:\n",
        "    ls.append(all_docs[key])\n",
        "  ls.sort()\n",
        "  if len(ls) > max_result_count:\n",
        "    ls = ls[len(ls) - max_result_count:]\n",
        "\n",
        "  doc_ids = []\n",
        "  for value in ls:\n",
        "    for key in all_docs:\n",
        "      if all_docs[key] == value:\n",
        "        doc_ids.append(key)\n",
        "        del all_docs[key]\n",
        "        break\n",
        "  doc_ids.reverse()\n",
        "\n",
        "\n",
        "  out = []\n",
        "  for id in doc_ids:\n",
        "    tmp = [id + 1]\n",
        "    tmp += create_highlight(id, title_query=title, plot_query=plot)\n",
        "    out.append(tmp)\n",
        "\n",
        "  return out\n",
        "\n",
        "\n",
        "# search(\"\", \"Girl whith thiroid Caner meet a boy and fall in love with himm. finaly the girl dyes.\", 4, 10)\n",
        "search(\"snow kilimanjaro\", \"hemingway\", 10, 3)"
      ],
      "execution_count": null,
      "outputs": [
        {
          "output_type": "execute_result",
          "data": {
            "text/plain": [
              "[[2001,\n",
              "  '<b>snow</b> kilimanjaro snow <b>kilimanjaro</b> ',\n",
              "  'open word <b>hemingway</b> stori kilimanjaro '],\n",
              " [4743, '<b>snow</b> white tale ', ''],\n",
              " [2206, '<b>snow</b> creatur ', '']]"
            ]
          },
          "metadata": {
            "tags": []
          },
          "execution_count": 27
        }
      ]
    },
    {
      "cell_type": "markdown",
      "metadata": {
        "id": "gBig369C6wSC"
      },
      "source": [
        "<div dir=\"rtl\">\n",
        "<font face=\"XB Zar\" size=4>\n",
        "    <h1>\n",
        "    <b>ارزیابی عملکرد سامانه (۱۰ نمره)</b>\n",
        "    </h1>\n",
        "    همانطور که در بخش مربوط به مجموعه دادگان گفته شد، تعدادی پرسمان نمونه به همراه اسناد مورد نظر برای آن‌ها در اختیار شما قرار گرفته است. در هر مورد اطلاعات لازم برای ایجاد یک پرسمان ذکر شده است. مطابق آن‌ها پرسمان خود را ایجاد کنید. نتایج به دست آمده از هر پرسمان را به عنوان predicted results آن پرسمان در نظر بگیرید. همچنین در هر مورد لیستی از شناسه‌ها وجود دارد. این لیست را به عنوان actual results در نظر بگیرید. <br>\n",
        "    معیار‌های زیر را پیاده‌سازی کنید (بدون استفاده از کد آماده) و نتیجه این معیارها را روی مجموعه‌ی actual و predicted گزارش کنید. دقت کنید که به ازای هر پرسمان باید تمام معیارها را در قالب یک جدول گزارش کنید.<br> دقت کنید که ۳ پرسمان آخر فقط برای افرادی که بخش spell correction را پیاده کرد‌ه‌اند نتیجه مطلوب دارد.\n",
        "</font>\n",
        "</div>"
      ]
    },
    {
      "cell_type": "code",
      "metadata": {
        "id": "aPfEVezQIsmb",
        "colab": {
          "base_uri": "https://localhost:8080/"
        },
        "outputId": "96e8f5e8-6b7f-467d-9769-3dbd3df8c914"
      },
      "source": [
        "def precision(actual, predicted):\n",
        "  cnt = 0\n",
        "  for x in predicted:\n",
        "    if x in actual:\n",
        "      cnt += 1\n",
        "  return cnt / len(predicted)\n",
        "\n",
        "\n",
        "precision([1,2], [1, 4, 5])"
      ],
      "execution_count": null,
      "outputs": [
        {
          "output_type": "execute_result",
          "data": {
            "text/plain": [
              "0.3333333333333333"
            ]
          },
          "metadata": {
            "tags": []
          },
          "execution_count": 35
        }
      ]
    },
    {
      "cell_type": "code",
      "metadata": {
        "id": "is4nfSw1LQoQ",
        "colab": {
          "base_uri": "https://localhost:8080/"
        },
        "outputId": "07747105-3120-4324-87be-e5f8d82a9811"
      },
      "source": [
        "def recall(actual, predicted):\n",
        "  cnt = 0\n",
        "  for x in predicted:\n",
        "    if x in actual:\n",
        "      cnt += 1\n",
        "  return cnt / len(actual)\n",
        "\n",
        "\n",
        "recall([1,2], [1, 4, 5])"
      ],
      "execution_count": null,
      "outputs": [
        {
          "output_type": "execute_result",
          "data": {
            "text/plain": [
              "0.5"
            ]
          },
          "metadata": {
            "tags": []
          },
          "execution_count": 36
        }
      ]
    },
    {
      "cell_type": "code",
      "metadata": {
        "id": "eYHYwRgTLVRA",
        "colab": {
          "base_uri": "https://localhost:8080/"
        },
        "outputId": "935eab8d-1d7c-4a01-9d8d-6711e44dcf8d"
      },
      "source": [
        "def f1_score(actual, predicted):\n",
        "  prc = precision(actual, predicted)\n",
        "  rcl = recall(actual, predicted)  \n",
        "  if prc + rcl != 0:\n",
        "    return 2 * prc * rcl / (prc + rcl)\n",
        "  return 0\n",
        "\n",
        "\n",
        "f1_score([1,2], [1, 4, 5])"
      ],
      "execution_count": null,
      "outputs": [
        {
          "output_type": "execute_result",
          "data": {
            "text/plain": [
              "0.4"
            ]
          },
          "metadata": {
            "tags": []
          },
          "execution_count": 37
        }
      ]
    },
    {
      "cell_type": "code",
      "metadata": {
        "id": "bZg-_PUPLZ31",
        "colab": {
          "base_uri": "https://localhost:8080/"
        },
        "outputId": "99ea027c-25e0-4382-f2aa-28052f44dca5"
      },
      "source": [
        "def map_score(actual, predicted):\n",
        "    tmp, tp, s = 0, 0, 0\n",
        "    for x in predicted:\n",
        "        tmp += 1\n",
        "        if x in actual:\n",
        "          tp +=1\n",
        "          s += tp/tmp\n",
        "    return s / len(actual)\n",
        "\n",
        "map_score([1,2], [1, 4, 5])"
      ],
      "execution_count": null,
      "outputs": [
        {
          "output_type": "execute_result",
          "data": {
            "text/plain": [
              "0.5"
            ]
          },
          "metadata": {
            "tags": []
          },
          "execution_count": 38
        }
      ]
    },
    {
      "cell_type": "code",
      "metadata": {
        "id": "OgOKEbMNLf-r",
        "colab": {
          "base_uri": "https://localhost:8080/"
        },
        "outputId": "759e5817-a818-41d6-8c9f-fdfcd94a359f"
      },
      "source": [
        "def ndcg_score(actual, predicted):\n",
        "  top, down = 0, 0\n",
        "  \n",
        "  for i in range(len(predicted)):\n",
        "    if predicted[i] in actual :\n",
        "      top += 1 / math.log(i + 2 , 2)\n",
        "  for i in range(len(actual)):\n",
        "    down += 1 / math.log(i + 2 , 2)\n",
        "  \n",
        "  return top / down\n",
        "\n",
        "\n",
        "ndcg_score([1,2], [1, 4, 5])"
      ],
      "execution_count": null,
      "outputs": [
        {
          "output_type": "execute_result",
          "data": {
            "text/plain": [
              "0.6131471927654585"
            ]
          },
          "metadata": {
            "tags": []
          },
          "execution_count": 39
        }
      ]
    },
    {
      "cell_type": "markdown",
      "metadata": {
        "id": "TVvMKP4cx81o"
      },
      "source": [
        "---\n",
        "## چک بر روی کوئری‌های فایل ولیدیشنن\n",
        "\n",
        "\n",
        "\n"
      ]
    },
    {
      "cell_type": "code",
      "metadata": {
        "colab": {
          "base_uri": "https://localhost:8080/"
        },
        "id": "2mZB8IAJyIen",
        "outputId": "f89e8e17-db4e-4b4c-be20-412870a34a81"
      },
      "source": [
        "f = open('/content/drive/MyDrive/Colab Notebooks/validation.json', 'r')\n",
        "queries = json.load(f)\n",
        "\n",
        "cnt = 1\n",
        "for q in queries:\n",
        "  actual_docs = q['doc_ids']\n",
        "  max_size = q['max_size']\n",
        "  plot_query = q['plot_query']\n",
        "  title_query = q['title_query']\n",
        "  title_weight = q['title_weight']\n",
        "  \n",
        "  ans = search(title_query, plot_query, title_weight, max_size)\n",
        "  predicted = []\n",
        "  for x in ans:\n",
        "    predicted.append(x[0])\n",
        "  print(\"query no.:\", cnt)\n",
        "  print(\"actual docs:\", actual_docs)\n",
        "  print(\"predicted:\", predicted)\n",
        "  print(\"precision:\", precision(actual_docs , predicted))\n",
        "  print(\"recall:\", recall(actual_docs , predicted))\n",
        "  print(\"f1:\", f1_score(actual_docs , predicted))\n",
        "  print(\"map:\", map_score(actual_docs , predicted))\n",
        "  print(\"ndcg:\", ndcg_score(actual_docs , predicted))\n",
        "  print(\"\\n\")\n",
        "  cnt += 1"
      ],
      "execution_count": null,
      "outputs": [
        {
          "output_type": "stream",
          "text": [
            "query no.: 1\n",
            "actual docs: [626, 1812, 3297, 111, 74, 4213, 3296, 4507, 2760, 2039]\n",
            "predicted: [626, 1812, 111, 3297, 74, 4213, 3296, 2996, 1116, 3883]\n",
            "precision: 0.7\n",
            "recall: 0.7\n",
            "f1: 0.7\n",
            "map: 0.7\n",
            "ndcg: 0.8006937664098821\n",
            "\n",
            "\n",
            "query no.: 2\n",
            "actual docs: [5180, 3152]\n",
            "predicted: [5180, 3152]\n",
            "precision: 1.0\n",
            "recall: 1.0\n",
            "f1: 1.0\n",
            "map: 1.0\n",
            "ndcg: 1.0\n",
            "\n",
            "\n",
            "query no.: 3\n",
            "actual docs: [4643, 4471, 5122, 4836, 3661, 3517, 4105]\n",
            "predicted: [4643, 4471, 5122, 4836, 3661, 3517, 4105]\n",
            "precision: 1.0\n",
            "recall: 1.0\n",
            "f1: 1.0\n",
            "map: 1.0\n",
            "ndcg: 1.0\n",
            "\n",
            "\n",
            "query no.: 4\n",
            "actual docs: [4670, 4971, 5309, 1136, 4920, 5475, 2871, 4160, 4357, 794, 5749, 4754]\n",
            "predicted: [4670, 754, 4971, 4920, 5601, 3079, 1136, 4160, 5749, 2871, 4377, 4749]\n",
            "precision: 0.5833333333333334\n",
            "recall: 0.5833333333333334\n",
            "f1: 0.5833333333333334\n",
            "map: 0.41498015873015875\n",
            "ndcg: 0.6223701420988297\n",
            "\n",
            "\n",
            "query no.: 5\n",
            "actual docs: [5903]\n",
            "predicted: [4604]\n",
            "precision: 0.0\n",
            "recall: 0.0\n",
            "f1: 0\n",
            "map: 0.0\n",
            "ndcg: 0.0\n",
            "\n",
            "\n",
            "query no.: 6\n",
            "actual docs: [5625]\n",
            "predicted: [5625]\n",
            "precision: 1.0\n",
            "recall: 1.0\n",
            "f1: 1.0\n",
            "map: 1.0\n",
            "ndcg: 1.0\n",
            "\n",
            "\n",
            "query no.: 7\n",
            "actual docs: [5153]\n",
            "predicted: [5153]\n",
            "precision: 1.0\n",
            "recall: 1.0\n",
            "f1: 1.0\n",
            "map: 1.0\n",
            "ndcg: 1.0\n",
            "\n",
            "\n"
          ],
          "name": "stdout"
        }
      ]
    },
    {
      "cell_type": "code",
      "metadata": {
        "id": "mY0hZ_EWyIgy"
      },
      "source": [
        ""
      ],
      "execution_count": null,
      "outputs": []
    },
    {
      "cell_type": "markdown",
      "metadata": {
        "id": "SHVlw0kVBUW4"
      },
      "source": [
        "<div dir=\"rtl\">\n",
        "<font face=\"XB Zar\" size=4>\n",
        "    <h1>\n",
        "    <b>نکات پایانی</b>\n",
        "    </h1>\n",
        "    \n",
        "\n",
        "1.   سیستم را بهینه پیاده‌سازی کنید تا در زمان کمتری بارگذاری و نمایه‌سازی  انجام شود.\n",
        "2.   تمام قطعه‌ کدهای بالا باید توسط شما تکمیل شود. نوت‌بوک نهایی باید بدون خطا اجرا شود. اگر تمام کدهای استفاده شده در همین فایل نیست،‌ حتما آن‌ها را نیز به همراه نوت‌بوک در کوئرا آپلود کنید.\n",
        "3.    اسم توابع و نحوه ورودی گرفتن و خروجی دادن آن‌ها را تغییر ندهید. بقیه اجزای توابع صرفا برای شهود بیشتر شما نوشته شده‌اند و نیازی به نگه‌داری آن‌ها نیست.\n",
        "4.   در صورت امکان استفاده از کد آماده مشخصا این مورد برای بخش مربوطه ذکر شده است. اگر چیزی در این مورد ذکر نشده نمی‌توانید از کد آماده استفاده کنید.\n",
        "5.    فایل داده‌ها را در کوئرا آپلود نکنید.\n",
        "6.    فایل زیپ نهایی و فایل نوت‌بوک حتما به فرمت StudentNumber_phase1 نامگذاری شود.\n",
        "\n",
        "\n",
        "<b>سالم و موفق باشید.</b>\n",
        "\n",
        "</font>\n",
        "</div>"
      ]
    },
    {
      "cell_type": "markdown",
      "metadata": {
        "id": "24QhiAqkQi-V"
      },
      "source": [
        "##References:\n",
        "\n",
        "[preprocess](https://medium.com/@datamonsters/text-preprocessing-in-python-steps-tools-and-examples-bf025f872908)\n",
        "\n"
      ]
    }
  ]
}